{
  "nbformat": 4,
  "nbformat_minor": 0,
  "metadata": {
    "colab": {
      "name": "1225-02.ipynb",
      "provenance": [],
      "collapsed_sections": [],
      "authorship_tag": "ABX9TyNyGiAhWgi9DuC40NiGeKee",
      "include_colab_link": true
    },
    "kernelspec": {
      "name": "python3",
      "display_name": "Python 3"
    },
    "language_info": {
      "name": "python"
    }
  },
  "cells": [
    {
      "cell_type": "markdown",
      "metadata": {
        "id": "view-in-github",
        "colab_type": "text"
      },
      "source": [
        "<a href=\"https://colab.research.google.com/github/Yi3912048/YI_Reinforcement_Learning/blob/main/1225_02.ipynb\" target=\"_parent\"><img src=\"https://colab.research.google.com/assets/colab-badge.svg\" alt=\"Open In Colab\"/></a>"
      ]
    },
    {
      "cell_type": "code",
      "source": [
        "# reference : https://github.com/yukinaga/minnano_rl/blob/main/section_5/01_lunar_lander.ipynb"
      ],
      "metadata": {
        "id": "b-g8lyX1dNFw"
      },
      "execution_count": null,
      "outputs": []
    },
    {
      "cell_type": "code",
      "source": [
        "!apt-get update\n",
        "!apt install swig cmake libopenmpi-dev zlib1g-dev\n",
        "!pip install stable-baselines==2.5.1 box2d box2d-kengz pyvirtualdisplay\n",
        "!apt-get install -y xvfb python-opengl ffmpeg\n",
        "!pip install tensorflow==1.14"
      ],
      "metadata": {
        "id": "YKCfLWL_acIh"
      },
      "execution_count": null,
      "outputs": []
    },
    {
      "cell_type": "code",
      "source": [
        "# import os\n",
        "# import io\n",
        "# import glob\n",
        "# import base64\n",
        "\n",
        "# import gym\n",
        "# from gym.wrappers import Monitor\n",
        "\n",
        "# import numpy as np\n",
        "\n",
        "# from stable_baselines.deepq.policies import MlpPolicy  # 2層のニューラルネットワーク\n",
        "# from stable_baselines.common.vec_env import DummyVecEnv  # ベクトル化環境\n",
        "# from stable_baselines import DQN\n",
        "# from stable_baselines.common.vec_env import VecVideoRecorder\n",
        "\n",
        "# from IPython import display as ipythondisplay\n",
        "# from IPython.display import HTML\n",
        "\n",
        "# import warnings\n",
        "# warnings.filterwarnings(\"ignore\")"
      ],
      "metadata": {
        "id": "ESe3VmIMadDk"
      },
      "execution_count": null,
      "outputs": []
    },
    {
      "cell_type": "code",
      "source": [
        ""
      ],
      "metadata": {
        "id": "PFgP17q2adQD"
      },
      "execution_count": null,
      "outputs": []
    },
    {
      "cell_type": "code",
      "source": [
        "# reference : https://qiita.com/ymd_h/items/c393797deb72e1779269"
      ],
      "metadata": {
        "id": "JvON_bCqdUdf"
      },
      "execution_count": null,
      "outputs": []
    },
    {
      "cell_type": "code",
      "source": [
        "!apt update\n",
        "!apt install xvfb"
      ],
      "metadata": {
        "id": "-M2pP9dccIK4"
      },
      "execution_count": null,
      "outputs": []
    },
    {
      "cell_type": "code",
      "source": [
        "!pip install pyvirtualdisplay\n",
        "\n",
        "from pyvirtualdisplay import Display\n",
        "\n",
        "d = Display()\n",
        "d.start()"
      ],
      "metadata": {
        "id": "YNufuSMCcMH7"
      },
      "execution_count": null,
      "outputs": []
    },
    {
      "cell_type": "code",
      "source": [
        ""
      ],
      "metadata": {
        "id": "GYA7xG09cMSs"
      },
      "execution_count": null,
      "outputs": []
    },
    {
      "cell_type": "code",
      "source": [
        "# reference : https://note.com/npaka/n/n22e2f37953bc"
      ],
      "metadata": {
        "id": "-_l6zdkzdcEE"
      },
      "execution_count": null,
      "outputs": []
    },
    {
      "cell_type": "code",
      "execution_count": null,
      "metadata": {
        "id": "AH1F4YTmZ9f3"
      },
      "outputs": [],
      "source": [
        "# import gym\n",
        "# import imageio\n",
        "# import numpy as np\n",
        "# from stable_baselines.common.policies import MlpPolicy\n",
        "# from stable_baselines.common.vec_env import DummyVecEnv\n",
        "# from stable_baselines import PPO2\n",
        "\n",
        "# # 環境の生成\n",
        "# env = gym.make('CartPole-v1')\n",
        "# env = DummyVecEnv([lambda: env])\n",
        "\n",
        "# # モデルの生成\n",
        "# model = PPO2(MlpPolicy, env, verbose=1)\n",
        "\n",
        "# # モデルの学習\n",
        "# model.learn(total_timesteps=10000)\n",
        "\n",
        "# # 画像配列の準備\n",
        "# images = []\n",
        "\n",
        "# # モデルのテスト\n",
        "# state = env.reset()\n",
        "# for i in range(200):\n",
        "#    images.append(model.env.render(mode='rgb_array')) # 画像の追加\n",
        "\n",
        "#    env.render()\n",
        "#    action, _ = model.predict(state)\n",
        "#    state, reward, done, info = env.step(action)\n",
        "\n",
        "# env.close()\n",
        "\n",
        "# # 画像配列をGIFファイルに変換して保存\n",
        "# imageio.mimsave('cartpole.gif', images, 'GIF', **{'duration': 1.0/30.0})"
      ]
    },
    {
      "cell_type": "code",
      "source": [
        ""
      ],
      "metadata": {
        "id": "DUlkv7mwm5k3"
      },
      "execution_count": null,
      "outputs": []
    },
    {
      "cell_type": "code",
      "source": [
        "### method-01"
      ],
      "metadata": {
        "id": "8Cjk4hQ4m6M_"
      },
      "execution_count": null,
      "outputs": []
    },
    {
      "cell_type": "code",
      "source": [
        "import gym\n",
        "import imageio\n",
        "import numpy as np\n",
        "from stable_baselines.common.policies import MlpPolicy\n",
        "from stable_baselines.common.vec_env import DummyVecEnv\n",
        "from stable_baselines import PPO2\n",
        "\n",
        "from IPython import display\n",
        "from pyvirtualdisplay import Display\n",
        "import matplotlib.pyplot as plt\n",
        "\n",
        "### display\n",
        "d = Display()\n",
        "d.start()\n",
        "\n",
        "### create env.\n",
        "env = gym.make('CartPole-v1')\n",
        "env = DummyVecEnv([lambda: env]) \n",
        "\n",
        "### create model\n",
        "model = PPO2(MlpPolicy, env, verbose=1)\n",
        "\n",
        "### train model\n",
        "model.learn(total_timesteps=10000)\n",
        "\n",
        "### image-matrix\n",
        "img = plt.imshow(model.env.render(mode='rgb_array'))\n",
        "\n",
        "### test model\n",
        "state = env.reset()\n",
        "for _ in range(300):\n",
        "\n",
        "    action, _ = model.predict(state)\n",
        "    state,reward,done,info = env.step(action)\n",
        "\n",
        "    display.clear_output(wait=True)\n",
        "    img.set_data(model.env.render(mode='rgb_array'))\n",
        "    plt.axis('off')\n",
        "    display.display(plt.gcf())\n",
        "    if d:\n",
        "        env.reset()\n",
        "\n",
        "env.close()"
      ],
      "metadata": {
        "id": "9YPakRDcgKyp"
      },
      "execution_count": null,
      "outputs": []
    },
    {
      "cell_type": "code",
      "source": [
        ""
      ],
      "metadata": {
        "id": "pXxRS6GHljU-"
      },
      "execution_count": null,
      "outputs": []
    },
    {
      "cell_type": "code",
      "source": [
        "### method-02"
      ],
      "metadata": {
        "id": "HkcxVJ_MlkFD"
      },
      "execution_count": null,
      "outputs": []
    },
    {
      "cell_type": "code",
      "source": [
        "import gym\n",
        "import imageio\n",
        "import numpy as np\n",
        "from stable_baselines.common.policies import MlpPolicy\n",
        "from stable_baselines.common.vec_env import DummyVecEnv\n",
        "from stable_baselines import PPO2\n",
        "\n",
        "from IPython import display\n",
        "from pyvirtualdisplay import Display\n",
        "import matplotlib.pyplot as plt\n",
        "from matplotlib import animation\n",
        "\n",
        "### display\n",
        "d = Display()\n",
        "d.start()\n",
        "\n",
        "### create env.\n",
        "env = gym.make('CartPole-v1')\n",
        "env = DummyVecEnv([lambda: env]) \n",
        "\n",
        "### create model\n",
        "model = PPO2(MlpPolicy, env, verbose=1)\n",
        "\n",
        "### train model\n",
        "model.learn(total_timesteps=10000)\n",
        "\n",
        "### image-matrix\n",
        "# img = plt.imshow(model.env.render(mode='rgb_array'))\n",
        "img = []\n",
        "\n",
        "### test model\n",
        "state = env.reset()\n",
        "for _ in range(300):\n",
        "\n",
        "    action, _ = model.predict(state)\n",
        "    state,reward,done,info = env.step(action)\n",
        "\n",
        "    display.clear_output(wait=True)\n",
        "    img.append(model.env.render(mode='rgb_array'))\n",
        "    plt.axis('off')\n",
        "    display.display(plt.gcf())\n",
        "    if d:\n",
        "        env.reset()\n",
        "\n",
        "env.close()\n",
        "\n",
        "### make animation\n",
        "dpi = 72\n",
        "interval = 50 # ms\n",
        "plt.figure(figsize=(img[0].shape[1]/dpi,img[0].shape[0]/dpi),dpi=dpi)\n",
        "patch = plt.imshow(img[0])\n",
        "plt.axis=('off')\n",
        "animate = lambda i: patch.set_data(img[i])\n",
        "ani = animation.FuncAnimation(plt.gcf(),animate,frames=len(img),interval=interval)\n",
        "display.display(display.HTML(ani.to_jshtml()))"
      ],
      "metadata": {
        "id": "-igNezMYlkPR"
      },
      "execution_count": null,
      "outputs": []
    },
    {
      "cell_type": "code",
      "source": [
        ""
      ],
      "metadata": {
        "id": "hN9p4Lo9olxe"
      },
      "execution_count": null,
      "outputs": []
    }
  ]
}